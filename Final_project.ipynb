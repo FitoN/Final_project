{
 "cells": [
  {
   "cell_type": "markdown",
   "metadata": {
    "collapsed": true
   },
   "source": [
    "# Priprava na analyzu genomu *Takifugu rubripes*"
   ]
  },
  {
   "cell_type": "markdown",
   "metadata": {},
   "source": [
    "Nacitanie potrebnych modulov:"
   ]
  },
  {
   "cell_type": "code",
   "execution_count": 2,
   "metadata": {
    "collapsed": true
   },
   "outputs": [],
   "source": [
    "import pandas as pd\n",
    "import numpy as np\n",
    "import matplotlib as plt\n",
    "import pylab as pl\n",
    "import re"
   ]
  },
  {
   "cell_type": "markdown",
   "metadata": {},
   "source": [
    "Rozdelenie .gtf suboru na geny a transkripty:"
   ]
  },
  {
   "cell_type": "code",
   "execution_count": 3,
   "metadata": {
    "collapsed": true
   },
   "outputs": [],
   "source": [
    "!cat Takifugu_rubripes.FUGU4.86.gtf | grep -E \"\\s+gene\\s+\" > Takifugu_rubripes.FUGU4.86_gene.gtf"
   ]
  },
  {
   "cell_type": "code",
   "execution_count": 4,
   "metadata": {
    "collapsed": true
   },
   "outputs": [],
   "source": [
    "!cat Takifugu_rubripes.FUGU4.86.gtf | grep -E \"\\s+transcript\\s+\" > Takifugu_rubripes.FUGU4.86_transcript.gtf"
   ]
  },
  {
   "cell_type": "markdown",
   "metadata": {},
   "source": [
    "Uprava dat podla vzoroveho protokolu:"
   ]
  },
  {
   "cell_type": "code",
   "execution_count": 5,
   "metadata": {
    "collapsed": false
   },
   "outputs": [],
   "source": [
    "genes=pd.read_table('Takifugu_rubripes.FUGU4.86_gene.gtf', header=None, dtype={0:np.object})   \n",
    "transcripts=pd.read_table('Takifugu_rubripes.FUGU4.86_transcript.gtf', header=None, dtype={0:np.object})"
   ]
  },
  {
   "cell_type": "code",
   "execution_count": 6,
   "metadata": {
    "collapsed": true
   },
   "outputs": [],
   "source": [
    "genes.columns = [\"seqname\", \"source\", \"feature\", \"start\", \"end\", \"score\", \"strand\", \"frame\", \"attribute\"]\n",
    "transcripts.columns = [\"seqname\", \"source\", \"feature\", \"start\", \"end\", \"score\", \"strand\", \"frame\", \"attribute\"]"
   ]
  },
  {
   "cell_type": "code",
   "execution_count": 7,
   "metadata": {
    "collapsed": false
   },
   "outputs": [],
   "source": [
    "def parse_attributes(attributes_str):\n",
    "    ONLY_ATTRIBUTES = set([\"gene_id\", \n",
    "                          \"transcript_id\",\n",
    "                          \"gene_name\",\n",
    "                          \"gene_biotype\",\n",
    "                          \"transcript_name\",\n",
    "                          \"transcript_biotype\"])\n",
    "    out = {}\n",
    "    \n",
    "    for pair in attributes_str.split(\";\"):\n",
    "        if pair.strip() == \"\":\n",
    "            continue\n",
    "        m = re.match(r\"^\\s*(.+) \\\"(.+)\\\"$\", pair)\n",
    "        \n",
    "        if m.group(1) in ONLY_ATTRIBUTES:\n",
    "            out[m.group(1)] = m.group(2)\n",
    "\n",
    "    return out"
   ]
  },
  {
   "cell_type": "code",
   "execution_count": 8,
   "metadata": {
    "collapsed": true
   },
   "outputs": [],
   "source": [
    "def split_attribute_column(df):\n",
    "    attributes_columns = df.attribute.apply(parse_attributes).apply(pd.Series)\n",
    "    return pd.concat([df.drop([\"attribute\"], axis=1),\n",
    "                      attributes_columns],\n",
    "                     axis=1)\n",
    "\n",
    "genes = split_attribute_column(genes)\n",
    "transcripts = split_attribute_column(transcripts)"
   ]
  },
  {
   "cell_type": "code",
   "execution_count": 9,
   "metadata": {
    "collapsed": false
   },
   "outputs": [
    {
     "data": {
      "text/html": [
       "<div>\n",
       "<table border=\"1\" class=\"dataframe\">\n",
       "  <thead>\n",
       "    <tr style=\"text-align: right;\">\n",
       "      <th></th>\n",
       "      <th>seqname</th>\n",
       "      <th>source</th>\n",
       "      <th>feature</th>\n",
       "      <th>start</th>\n",
       "      <th>end</th>\n",
       "      <th>score</th>\n",
       "      <th>strand</th>\n",
       "      <th>frame</th>\n",
       "      <th>gene_biotype</th>\n",
       "      <th>gene_id</th>\n",
       "      <th>gene_name</th>\n",
       "      <th>transcript_biotype</th>\n",
       "      <th>transcript_id</th>\n",
       "      <th>transcript_name</th>\n",
       "    </tr>\n",
       "  </thead>\n",
       "  <tbody>\n",
       "    <tr>\n",
       "      <th>0</th>\n",
       "      <td>scaffold_1</td>\n",
       "      <td>ensembl</td>\n",
       "      <td>transcript</td>\n",
       "      <td>10422</td>\n",
       "      <td>11354</td>\n",
       "      <td>.</td>\n",
       "      <td>-</td>\n",
       "      <td>.</td>\n",
       "      <td>protein_coding</td>\n",
       "      <td>ENSTRUG00000003702</td>\n",
       "      <td>foxb1b</td>\n",
       "      <td>protein_coding</td>\n",
       "      <td>ENSTRUT00000008740</td>\n",
       "      <td>foxb1b-201</td>\n",
       "    </tr>\n",
       "    <tr>\n",
       "      <th>1</th>\n",
       "      <td>scaffold_1</td>\n",
       "      <td>ensembl</td>\n",
       "      <td>transcript</td>\n",
       "      <td>20130</td>\n",
       "      <td>22355</td>\n",
       "      <td>.</td>\n",
       "      <td>+</td>\n",
       "      <td>.</td>\n",
       "      <td>protein_coding</td>\n",
       "      <td>ENSTRUG00000003740</td>\n",
       "      <td>gtf2a2</td>\n",
       "      <td>protein_coding</td>\n",
       "      <td>ENSTRUT00000008836</td>\n",
       "      <td>gtf2a2-201</td>\n",
       "    </tr>\n",
       "    <tr>\n",
       "      <th>2</th>\n",
       "      <td>scaffold_1</td>\n",
       "      <td>ensembl</td>\n",
       "      <td>transcript</td>\n",
       "      <td>23125</td>\n",
       "      <td>25457</td>\n",
       "      <td>.</td>\n",
       "      <td>-</td>\n",
       "      <td>.</td>\n",
       "      <td>protein_coding</td>\n",
       "      <td>ENSTRUG00000003845</td>\n",
       "      <td>znf395a</td>\n",
       "      <td>protein_coding</td>\n",
       "      <td>ENSTRUT00000009117</td>\n",
       "      <td>znf395a-201</td>\n",
       "    </tr>\n",
       "    <tr>\n",
       "      <th>3</th>\n",
       "      <td>scaffold_1</td>\n",
       "      <td>ensembl</td>\n",
       "      <td>transcript</td>\n",
       "      <td>23125</td>\n",
       "      <td>25221</td>\n",
       "      <td>.</td>\n",
       "      <td>-</td>\n",
       "      <td>.</td>\n",
       "      <td>protein_coding</td>\n",
       "      <td>ENSTRUG00000003845</td>\n",
       "      <td>znf395a</td>\n",
       "      <td>protein_coding</td>\n",
       "      <td>ENSTRUT00000009118</td>\n",
       "      <td>znf395a-202</td>\n",
       "    </tr>\n",
       "    <tr>\n",
       "      <th>4</th>\n",
       "      <td>scaffold_1</td>\n",
       "      <td>ensembl</td>\n",
       "      <td>transcript</td>\n",
       "      <td>23125</td>\n",
       "      <td>25221</td>\n",
       "      <td>.</td>\n",
       "      <td>-</td>\n",
       "      <td>.</td>\n",
       "      <td>protein_coding</td>\n",
       "      <td>ENSTRUG00000003845</td>\n",
       "      <td>znf395a</td>\n",
       "      <td>protein_coding</td>\n",
       "      <td>ENSTRUT00000009119</td>\n",
       "      <td>znf395a-203</td>\n",
       "    </tr>\n",
       "  </tbody>\n",
       "</table>\n",
       "</div>"
      ],
      "text/plain": [
       "      seqname   source     feature  start    end score strand frame  \\\n",
       "0  scaffold_1  ensembl  transcript  10422  11354     .      -     .   \n",
       "1  scaffold_1  ensembl  transcript  20130  22355     .      +     .   \n",
       "2  scaffold_1  ensembl  transcript  23125  25457     .      -     .   \n",
       "3  scaffold_1  ensembl  transcript  23125  25221     .      -     .   \n",
       "4  scaffold_1  ensembl  transcript  23125  25221     .      -     .   \n",
       "\n",
       "     gene_biotype             gene_id gene_name transcript_biotype  \\\n",
       "0  protein_coding  ENSTRUG00000003702    foxb1b     protein_coding   \n",
       "1  protein_coding  ENSTRUG00000003740    gtf2a2     protein_coding   \n",
       "2  protein_coding  ENSTRUG00000003845   znf395a     protein_coding   \n",
       "3  protein_coding  ENSTRUG00000003845   znf395a     protein_coding   \n",
       "4  protein_coding  ENSTRUG00000003845   znf395a     protein_coding   \n",
       "\n",
       "        transcript_id transcript_name  \n",
       "0  ENSTRUT00000008740      foxb1b-201  \n",
       "1  ENSTRUT00000008836      gtf2a2-201  \n",
       "2  ENSTRUT00000009117     znf395a-201  \n",
       "3  ENSTRUT00000009118     znf395a-202  \n",
       "4  ENSTRUT00000009119     znf395a-203  "
      ]
     },
     "execution_count": 9,
     "metadata": {},
     "output_type": "execute_result"
    }
   ],
   "source": [
    "transcripts.head()"
   ]
  },
  {
   "cell_type": "code",
   "execution_count": 10,
   "metadata": {
    "collapsed": false,
    "scrolled": true
   },
   "outputs": [
    {
     "data": {
      "text/html": [
       "<div>\n",
       "<table border=\"1\" class=\"dataframe\">\n",
       "  <thead>\n",
       "    <tr style=\"text-align: right;\">\n",
       "      <th></th>\n",
       "      <th>seqname</th>\n",
       "      <th>source</th>\n",
       "      <th>feature</th>\n",
       "      <th>start</th>\n",
       "      <th>end</th>\n",
       "      <th>score</th>\n",
       "      <th>strand</th>\n",
       "      <th>frame</th>\n",
       "      <th>gene_biotype</th>\n",
       "      <th>gene_id</th>\n",
       "      <th>gene_name</th>\n",
       "    </tr>\n",
       "  </thead>\n",
       "  <tbody>\n",
       "    <tr>\n",
       "      <th>0</th>\n",
       "      <td>scaffold_1</td>\n",
       "      <td>ensembl</td>\n",
       "      <td>gene</td>\n",
       "      <td>10422</td>\n",
       "      <td>11354</td>\n",
       "      <td>.</td>\n",
       "      <td>-</td>\n",
       "      <td>.</td>\n",
       "      <td>protein_coding</td>\n",
       "      <td>ENSTRUG00000003702</td>\n",
       "      <td>foxb1b</td>\n",
       "    </tr>\n",
       "    <tr>\n",
       "      <th>1</th>\n",
       "      <td>scaffold_1</td>\n",
       "      <td>ensembl</td>\n",
       "      <td>gene</td>\n",
       "      <td>20130</td>\n",
       "      <td>22355</td>\n",
       "      <td>.</td>\n",
       "      <td>+</td>\n",
       "      <td>.</td>\n",
       "      <td>protein_coding</td>\n",
       "      <td>ENSTRUG00000003740</td>\n",
       "      <td>gtf2a2</td>\n",
       "    </tr>\n",
       "    <tr>\n",
       "      <th>2</th>\n",
       "      <td>scaffold_1</td>\n",
       "      <td>ensembl</td>\n",
       "      <td>gene</td>\n",
       "      <td>23125</td>\n",
       "      <td>25457</td>\n",
       "      <td>.</td>\n",
       "      <td>-</td>\n",
       "      <td>.</td>\n",
       "      <td>protein_coding</td>\n",
       "      <td>ENSTRUG00000003845</td>\n",
       "      <td>znf395a</td>\n",
       "    </tr>\n",
       "    <tr>\n",
       "      <th>3</th>\n",
       "      <td>scaffold_1</td>\n",
       "      <td>ensembl</td>\n",
       "      <td>gene</td>\n",
       "      <td>30970</td>\n",
       "      <td>33491</td>\n",
       "      <td>.</td>\n",
       "      <td>-</td>\n",
       "      <td>.</td>\n",
       "      <td>protein_coding</td>\n",
       "      <td>ENSTRUG00000004024</td>\n",
       "      <td>PAQR8 (1 of many)</td>\n",
       "    </tr>\n",
       "    <tr>\n",
       "      <th>4</th>\n",
       "      <td>scaffold_1</td>\n",
       "      <td>ensembl</td>\n",
       "      <td>gene</td>\n",
       "      <td>40384</td>\n",
       "      <td>41519</td>\n",
       "      <td>.</td>\n",
       "      <td>-</td>\n",
       "      <td>.</td>\n",
       "      <td>protein_coding</td>\n",
       "      <td>ENSTRUG00000004274</td>\n",
       "      <td>stmn4l</td>\n",
       "    </tr>\n",
       "  </tbody>\n",
       "</table>\n",
       "</div>"
      ],
      "text/plain": [
       "      seqname   source feature  start    end score strand frame  \\\n",
       "0  scaffold_1  ensembl    gene  10422  11354     .      -     .   \n",
       "1  scaffold_1  ensembl    gene  20130  22355     .      +     .   \n",
       "2  scaffold_1  ensembl    gene  23125  25457     .      -     .   \n",
       "3  scaffold_1  ensembl    gene  30970  33491     .      -     .   \n",
       "4  scaffold_1  ensembl    gene  40384  41519     .      -     .   \n",
       "\n",
       "     gene_biotype             gene_id          gene_name  \n",
       "0  protein_coding  ENSTRUG00000003702             foxb1b  \n",
       "1  protein_coding  ENSTRUG00000003740             gtf2a2  \n",
       "2  protein_coding  ENSTRUG00000003845            znf395a  \n",
       "3  protein_coding  ENSTRUG00000004024  PAQR8 (1 of many)  \n",
       "4  protein_coding  ENSTRUG00000004274             stmn4l  "
      ]
     },
     "execution_count": 10,
     "metadata": {},
     "output_type": "execute_result"
    }
   ],
   "source": [
    "genes.head()"
   ]
  },
  {
   "cell_type": "markdown",
   "metadata": {},
   "source": [
    "# \n",
    "#\n",
    "#"
   ]
  },
  {
   "cell_type": "markdown",
   "metadata": {},
   "source": [
    "# Analyza genomu *Takifugu rubripes*"
   ]
  },
  {
   "cell_type": "markdown",
   "metadata": {},
   "source": [
    "![Takifugu](http://2.bp.blogspot.com/-vIYDBTjolQE/TZmsnovmyAI/AAAAAAAAFz4/d_MkNWmoqNQ/s1600/takifugu.jpg)"
   ]
  },
  {
   "cell_type": "markdown",
   "metadata": {},
   "source": [
    "- znama tiez ako fugu\n",
    "- jedovata (tetrodotoxin)\n",
    "- patri k japonskym delikatesam\n",
    "\n",
    "\n",
    "- genom publikovany v 2002\n",
    "- druhy osekvenovany obratlovec (1. clovek)\n",
    "- velmi maly genom \n",
    "    - 392 Mb vs. clovek 3 234 Mb\n",
    "    - 12% velkosti ludskeho genomu"
   ]
  },
  {
   "cell_type": "markdown",
   "metadata": {},
   "source": [
    "### - pocet \"chromozomov\":"
   ]
  },
  {
   "cell_type": "code",
   "execution_count": 11,
   "metadata": {
    "collapsed": false
   },
   "outputs": [
    {
     "data": {
      "text/plain": [
       "count          19388\n",
       "unique          2056\n",
       "top       scaffold_1\n",
       "freq             372\n",
       "Name: seqname, dtype: object"
      ]
     },
     "execution_count": 11,
     "metadata": {},
     "output_type": "execute_result"
    }
   ],
   "source": [
    "genes[\"seqname\"].describe()"
   ]
  },
  {
   "cell_type": "markdown",
   "metadata": {},
   "source": [
    "- 2056 scaffoldov\n",
    "    - *(genomy su assemblovane hierarchicky: contig < scaffold < chromosome)*"
   ]
  },
  {
   "cell_type": "code",
   "execution_count": 12,
   "metadata": {
    "collapsed": false
   },
   "outputs": [
    {
     "name": "stdout",
     "output_type": "stream",
     "text": [
      "2055\r\n"
     ]
    }
   ],
   "source": [
    "! cut -f1 \"Takifugu_rubripes.FUGU4.86_gene.gtf\" | uniq | grep \"scaffold\" | wc -l"
   ]
  },
  {
   "cell_type": "markdown",
   "metadata": {},
   "source": [
    " - jeden unikatny \"seqname\" neobsahuje slovo scaffold"
   ]
  },
  {
   "cell_type": "code",
   "execution_count": 13,
   "metadata": {
    "collapsed": false
   },
   "outputs": [
    {
     "name": "stdout",
     "output_type": "stream",
     "text": [
      "MT\r\n"
     ]
    }
   ],
   "source": [
    "! cut -f1 \"Takifugu_rubripes.FUGU4.86_gene.gtf\" | uniq | grep -v \"scaffold\""
   ]
  },
  {
   "cell_type": "markdown",
   "metadata": {},
   "source": [
    "- geny su priradene bud k scaffoldom (chromozomalne/jadrove) alebo k mitochondrialnemu genomu"
   ]
  },
  {
   "cell_type": "code",
   "execution_count": 66,
   "metadata": {
    "collapsed": false
   },
   "outputs": [
    {
     "data": {
      "text/plain": [
       "scaffold_1    372\n",
       "scaffold_3    295\n",
       "scaffold_2    261\n",
       "scaffold_6    226\n",
       "scaffold_7    184\n",
       "Name: seqname, dtype: int64"
      ]
     },
     "execution_count": 66,
     "metadata": {},
     "output_type": "execute_result"
    }
   ],
   "source": [
    "genes[\"seqname\"].value_counts().head()"
   ]
  },
  {
   "cell_type": "markdown",
   "metadata": {},
   "source": [
    "- najcastejsie scaffoldy: 1, 3, 2, 6, 7"
   ]
  },
  {
   "cell_type": "markdown",
   "metadata": {},
   "source": [
    "### - pocet genov:"
   ]
  },
  {
   "cell_type": "code",
   "execution_count": 14,
   "metadata": {
    "collapsed": false
   },
   "outputs": [
    {
     "data": {
      "text/plain": [
       "count                  19388\n",
       "unique                 19388\n",
       "top       ENSTRUG00000006188\n",
       "freq                       1\n",
       "Name: gene_id, dtype: object"
      ]
     },
     "execution_count": 14,
     "metadata": {},
     "output_type": "execute_result"
    }
   ],
   "source": [
    "genes[\"gene_id\"].describe()"
   ]
  },
  {
   "cell_type": "markdown",
   "metadata": {},
   "source": [
    "- napriek malej velkosti genomu podobny pocet genov ako clovek\n",
    "    - 19388 genov vs. 20441\n",
    "    - 95% poctu ludskych genov\n",
    "    "
   ]
  },
  {
   "cell_type": "code",
   "execution_count": 70,
   "metadata": {
    "collapsed": false
   },
   "outputs": [
    {
     "data": {
      "text/plain": [
       "protein_coding    18523\n",
       "miRNA               337\n",
       "snoRNA              175\n",
       "pseudogene          162\n",
       "rRNA                 83\n",
       "snRNA                74\n",
       "Mt_tRNA              22\n",
       "misc_RNA             10\n",
       "Mt_rRNA               2\n",
       "Name: gene_biotype, dtype: int64"
      ]
     },
     "execution_count": 70,
     "metadata": {},
     "output_type": "execute_result"
    }
   ],
   "source": [
    "genes[\"gene_biotype\"].value_counts()"
   ]
  },
  {
   "cell_type": "code",
   "execution_count": 133,
   "metadata": {
    "collapsed": false
   },
   "outputs": [
    {
     "data": {
      "text/plain": [
       "865"
      ]
     },
     "execution_count": 133,
     "metadata": {},
     "output_type": "execute_result"
    }
   ],
   "source": [
    "genes.loc[genes[\"gene_biotype\"] != \"protein_coding\"][\"gene_id\"].count()"
   ]
  },
  {
   "cell_type": "markdown",
   "metadata": {},
   "source": [
    "- najcastejsie geny: protein kodujuce (18523), miRNA (337) a snoRNA (175)\n",
    "- 865 nekodujucich genov"
   ]
  },
  {
   "cell_type": "markdown",
   "metadata": {},
   "source": [
    "#### - pocet mitochondrialnych genov:"
   ]
  },
  {
   "cell_type": "code",
   "execution_count": 15,
   "metadata": {
    "collapsed": false
   },
   "outputs": [
    {
     "data": {
      "text/plain": [
       "37"
      ]
     },
     "execution_count": 15,
     "metadata": {},
     "output_type": "execute_result"
    }
   ],
   "source": [
    "genes.loc[genes[\"seqname\"] == \"MT\"].count()[\"gene_id\"]"
   ]
  },
  {
   "cell_type": "markdown",
   "metadata": {},
   "source": [
    "- obsahuje 37 genov kodujucich mitochondrialnym genomom, podobne ako clovek"
   ]
  },
  {
   "cell_type": "code",
   "execution_count": 69,
   "metadata": {
    "collapsed": false
   },
   "outputs": [
    {
     "data": {
      "text/plain": [
       "Mt_tRNA           22\n",
       "protein_coding    13\n",
       "Mt_rRNA            2\n",
       "Name: gene_biotype, dtype: int64"
      ]
     },
     "execution_count": 69,
     "metadata": {},
     "output_type": "execute_result"
    }
   ],
   "source": [
    "genes.loc[genes[\"seqname\"] == \"MT\"][\"gene_biotype\"].value_counts()"
   ]
  },
  {
   "cell_type": "markdown",
   "metadata": {},
   "source": [
    "- 22 tRNA, 2 rRNA, 13 protein kodujucich genov kodovanych mitochondrialnym genomom"
   ]
  },
  {
   "cell_type": "markdown",
   "metadata": {},
   "source": [
    "### - dlzka genov:"
   ]
  },
  {
   "cell_type": "code",
   "execution_count": 16,
   "metadata": {
    "collapsed": true
   },
   "outputs": [],
   "source": [
    "genes[\"gene_len\"] = genes[\"end\"] - genes[\"start\"]"
   ]
  },
  {
   "cell_type": "code",
   "execution_count": 17,
   "metadata": {
    "collapsed": false
   },
   "outputs": [
    {
     "data": {
      "text/plain": [
       "count     19388.000000\n",
       "mean       7570.376728\n",
       "std       11941.577886\n",
       "min          27.000000\n",
       "25%        1882.000000\n",
       "50%        3898.500000\n",
       "75%        8068.000000\n",
       "max      255229.000000\n",
       "Name: gene_len, dtype: float64"
      ]
     },
     "execution_count": 17,
     "metadata": {},
     "output_type": "execute_result"
    }
   ],
   "source": [
    "genes[\"gene_len\"].describe()"
   ]
  },
  {
   "cell_type": "markdown",
   "metadata": {},
   "source": [
    "- priemerna dlzka genov 7570 nt"
   ]
  },
  {
   "cell_type": "code",
   "execution_count": 52,
   "metadata": {
    "collapsed": false
   },
   "outputs": [
    {
     "data": {
      "text/plain": [
       "<matplotlib.axes._subplots.AxesSubplot at 0xad009cec>"
      ]
     },
     "execution_count": 52,
     "metadata": {},
     "output_type": "execute_result"
    },
    {
     "data": {
      "image/png": "[encoded data removed]",
      "text/plain": [
       "<matplotlib.figure.Figure at 0xacfebeec>"
      ]
     },
     "metadata": {},
     "output_type": "display_data"
    }
   ],
   "source": [
    "%matplotlib inline\n",
    "pl.suptitle(\"Distribucia velkosti genov\")\n",
    "genes[\"gene_len\"].hist(bins = 10)"
   ]
  },
  {
   "cell_type": "markdown",
   "metadata": {},
   "source": [
    "#### - dlzka mitochondrialnych genov:"
   ]
  },
  {
   "cell_type": "code",
   "execution_count": 28,
   "metadata": {
    "collapsed": false
   },
   "outputs": [
    {
     "data": {
      "text/plain": [
       "count      37.000000\n",
       "mean      420.324324\n",
       "std       535.101032\n",
       "min        63.000000\n",
       "25%        69.000000\n",
       "50%        72.000000\n",
       "75%       690.000000\n",
       "max      1838.000000\n",
       "Name: gene_len, dtype: float64"
      ]
     },
     "execution_count": 28,
     "metadata": {},
     "output_type": "execute_result"
    }
   ],
   "source": [
    "genes.loc[genes[\"seqname\"] == \"MT\"].describe()[\"gene_len\"]"
   ]
  },
  {
   "cell_type": "markdown",
   "metadata": {
    "collapsed": false
   },
   "source": [
    "- priemerna dlzka mitochondrialnych genov 535 nt"
   ]
  },
  {
   "cell_type": "code",
   "execution_count": 73,
   "metadata": {
    "collapsed": false
   },
   "outputs": [
    {
     "data": {
      "text/plain": [
       "<matplotlib.text.Text at 0xab8e1b4c>"
      ]
     },
     "execution_count": 73,
     "metadata": {},
     "output_type": "execute_result"
    },
    {
     "data": {
      "image/png": "[encoded data removed]",
      "text/plain": [
       "<matplotlib.figure.Figure at 0xab8718ac>"
      ]
     },
     "metadata": {},
     "output_type": "display_data"
    }
   ],
   "source": [
    "genes.loc[genes[\"seqname\"] == \"MT\"][\"gene_len\"].hist(bins = 10)\n",
    "pl.suptitle(\"Distribucia velkosti mitochondrialnych genov\")"
   ]
  },
  {
   "cell_type": "markdown",
   "metadata": {},
   "source": [
    "- 22 tRNA, 2 rRNA, 13 protein kodujucich genov kodovanych mitochondrialnym genomom"
   ]
  },
  {
   "cell_type": "code",
   "execution_count": 206,
   "metadata": {
    "collapsed": false
   },
   "outputs": [],
   "source": [
    "mt_genes = genes.loc[genes[\"seqname\"] == \"MT\"]\n",
    "mt_transcripts = transcripts.loc[transcripts[\"seqname\"] == \"MT\"]"
   ]
  },
  {
   "cell_type": "markdown",
   "metadata": {},
   "source": [
    "#### Distribucia velkosti mitochondrialnych genov podla ich biotypu"
   ]
  },
  {
   "cell_type": "code",
   "execution_count": 92,
   "metadata": {
    "collapsed": false
   },
   "outputs": [
    {
     "data": {
      "text/plain": [
       "<matplotlib.axes._subplots.AxesSubplot at 0xab421a4c>"
      ]
     },
     "execution_count": 92,
     "metadata": {},
     "output_type": "execute_result"
    },
    {
     "data": {
      "image/png": "[encoded data removed]",
      "text/plain": [
       "<matplotlib.figure.Figure at 0xacea0a8c>"
      ]
     },
     "metadata": {},
     "output_type": "display_data"
    }
   ],
   "source": [
    "mt_genes.boxplot(column=\"gene_len\", by=\"gene_biotype\")"
   ]
  },
  {
   "cell_type": "markdown",
   "metadata": {},
   "source": [
    "### - pocet transkriptov"
   ]
  },
  {
   "cell_type": "code",
   "execution_count": 121,
   "metadata": {
    "collapsed": false
   },
   "outputs": [
    {
     "data": {
      "text/plain": [
       "count    19388.000000\n",
       "mean         2.512172\n",
       "std          2.071977\n",
       "min          1.000000\n",
       "25%          1.000000\n",
       "50%          2.000000\n",
       "75%          3.000000\n",
       "max         10.000000\n",
       "Name: gene_id, dtype: float64"
      ]
     },
     "execution_count": 121,
     "metadata": {},
     "output_type": "execute_result"
    }
   ],
   "source": [
    "transcripts[\"gene_id\"].value_counts().describe()"
   ]
  },
  {
   "cell_type": "markdown",
   "metadata": {},
   "source": [
    "- v priemere maju geny 2,5 transkriptov\n",
    "    - az 75% genov ma max 3 transkripty\n",
    "    - geny maju najviac 10 transkriptov "
   ]
  },
  {
   "cell_type": "code",
   "execution_count": 158,
   "metadata": {
    "collapsed": true
   },
   "outputs": [],
   "source": [
    "number_of_transcripts = transcripts[\"gene_id\"].value_counts()"
   ]
  },
  {
   "cell_type": "code",
   "execution_count": 122,
   "metadata": {
    "collapsed": false
   },
   "outputs": [
    {
     "data": {
      "text/plain": [
       "<matplotlib.text.Text at 0xab708aac>"
      ]
     },
     "execution_count": 122,
     "metadata": {},
     "output_type": "execute_result"
    },
    {
     "data": {
      "image/png": "[encoded data removed]",
      "text/plain": [
       "<matplotlib.figure.Figure at 0xab768d8c>"
      ]
     },
     "metadata": {},
     "output_type": "display_data"
    }
   ],
   "source": [
    "transcripts[\"gene_id\"].value_counts().hist()\n",
    "pl.suptitle(\"Distribucia poctu transkriptov genov\")"
   ]
  },
  {
   "cell_type": "code",
   "execution_count": 136,
   "metadata": {
    "collapsed": false
   },
   "outputs": [
    {
     "data": {
      "text/plain": [
       "count    865\n",
       "mean       1\n",
       "std        0\n",
       "min        1\n",
       "25%        1\n",
       "50%        1\n",
       "75%        1\n",
       "max        1\n",
       "Name: gene_id, dtype: float64"
      ]
     },
     "execution_count": 136,
     "metadata": {},
     "output_type": "execute_result"
    }
   ],
   "source": [
    "transcripts.loc[transcripts[\"gene_biotype\"] != \"protein_coding\"][\"gene_id\"].value_counts().describe()"
   ]
  },
  {
   "cell_type": "markdown",
   "metadata": {},
   "source": [
    "- vsetky geny, ktore nie su \"protein coding\" vytvaraju iba 1 transkript"
   ]
  },
  {
   "cell_type": "code",
   "execution_count": 123,
   "metadata": {
    "collapsed": false
   },
   "outputs": [
    {
     "data": {
      "text/plain": [
       "count    37\n",
       "mean      1\n",
       "std       0\n",
       "min       1\n",
       "25%       1\n",
       "50%       1\n",
       "75%       1\n",
       "max       1\n",
       "Name: gene_id, dtype: float64"
      ]
     },
     "execution_count": 123,
     "metadata": {},
     "output_type": "execute_result"
    }
   ],
   "source": [
    "transcripts.loc[transcripts[\"seqname\"] == \"MT\"][\"gene_id\"].value_counts().describe()"
   ]
  },
  {
   "cell_type": "markdown",
   "metadata": {},
   "source": [
    "- vsetky mitochondrialne geny maju iba 1 transkript"
   ]
  },
  {
   "cell_type": "markdown",
   "metadata": {},
   "source": [
    "## - vztah medzi velkostou genu a poctom transkriptov"
   ]
  },
  {
   "cell_type": "code",
   "execution_count": 159,
   "metadata": {
    "collapsed": false
   },
   "outputs": [
    {
     "data": {
      "text/plain": [
       "<matplotlib.text.Text at 0xaaf7fc0c>"
      ]
     },
     "execution_count": 159,
     "metadata": {},
     "output_type": "execute_result"
    },
    {
     "data": {
      "image/png": "[encoded data removed]",
      "text/plain": [
       "<matplotlib.figure.Figure at 0xaaf7b98c>"
      ]
     },
     "metadata": {},
     "output_type": "display_data"
    }
   ],
   "source": [
    "fig,ax = plt.pyplot.subplots()\n",
    "ax.scatter(number_of_transcripts, genes[\"gene_len\"])\n",
    "ax.set_xlabel(\"Pocet transkriptov\")\n",
    "ax.set_ylabel(\"Velkost genu\")\n",
    "pl.suptitle(\"Vztah medzi velkostou genu a poctom transkriptov\")"
   ]
  },
  {
   "cell_type": "markdown",
   "metadata": {},
   "source": [
    "### ma \"vyznam\" to, na akom strande (+/-) su geny?"
   ]
  },
  {
   "cell_type": "code",
   "execution_count": 166,
   "metadata": {
    "collapsed": false
   },
   "outputs": [
    {
     "data": {
      "text/plain": [
       "+    9740\n",
       "-    9648\n",
       "Name: strand, dtype: int64"
      ]
     },
     "execution_count": 166,
     "metadata": {},
     "output_type": "execute_result"
    }
   ],
   "source": [
    "genes[\"strand\"].value_counts()"
   ]
  },
  {
   "cell_type": "code",
   "execution_count": 167,
   "metadata": {
    "collapsed": false
   },
   "outputs": [
    {
     "data": {
      "text/plain": [
       "+    30\n",
       "-     7\n",
       "Name: strand, dtype: int64"
      ]
     },
     "execution_count": 167,
     "metadata": {},
     "output_type": "execute_result"
    }
   ],
   "source": [
    "mt_genes[\"strand\"].value_counts()"
   ]
  },
  {
   "cell_type": "code",
   "execution_count": 205,
   "metadata": {
    "collapsed": false
   },
   "outputs": [
    {
     "data": {
      "text/plain": [
       "+    24480\n",
       "-    24226\n",
       "Name: strand, dtype: int64"
      ]
     },
     "execution_count": 205,
     "metadata": {},
     "output_type": "execute_result"
    }
   ],
   "source": [
    "transcripts[\"strand\"].value_counts()"
   ]
  },
  {
   "cell_type": "code",
   "execution_count": 207,
   "metadata": {
    "collapsed": false
   },
   "outputs": [
    {
     "data": {
      "text/plain": [
       "+    30\n",
       "-     7\n",
       "Name: strand, dtype: int64"
      ]
     },
     "execution_count": 207,
     "metadata": {},
     "output_type": "execute_result"
    }
   ],
   "source": [
    "mt_transcripts[\"strand\"].value_counts()"
   ]
  },
  {
   "cell_type": "markdown",
   "metadata": {},
   "source": [
    "- kym u jadrovych genov je distribucia podobna, mitochondrialne geny su prevazne na + strande"
   ]
  },
  {
   "cell_type": "markdown",
   "metadata": {},
   "source": [
    "### Par zaujimavosti"
   ]
  },
  {
   "cell_type": "markdown",
   "metadata": {},
   "source": [
    "#### Ma najdlhsi gen najviac moznych (10) transkriptov?"
   ]
  },
  {
   "cell_type": "markdown",
   "metadata": {},
   "source": [
    "- najprv najst ID genu s najdlhsou dlzkou"
   ]
  },
  {
   "cell_type": "code",
   "execution_count": 222,
   "metadata": {
    "collapsed": false
   },
   "outputs": [
    {
     "data": {
      "text/plain": [
       "'ENSTRUG00000006204'"
      ]
     },
     "execution_count": 222,
     "metadata": {},
     "output_type": "execute_result"
    }
   ],
   "source": [
    "genes.ix[genes[\"gene_len\"].idxmax()][\"gene_id\"]"
   ]
  },
  {
   "cell_type": "markdown",
   "metadata": {},
   "source": [
    "- najst odpovedajuci gen a spocitat pocet transkriptov:"
   ]
  },
  {
   "cell_type": "code",
   "execution_count": 228,
   "metadata": {
    "collapsed": false
   },
   "outputs": [
    {
     "data": {
      "text/plain": [
       "6"
      ]
     },
     "execution_count": 228,
     "metadata": {},
     "output_type": "execute_result"
    }
   ],
   "source": [
    "transcripts.loc[transcripts[\"gene_id\"] == genes.ix[genes[\"gene_len\"].idxmax()][\"gene_id\"]].count()[\"transcript_id\"]"
   ]
  },
  {
   "cell_type": "markdown",
   "metadata": {},
   "source": [
    "- najdlhsi gen v genome tvori \"len\" 6 alternativnych transkriptov"
   ]
  }
 ],
 "metadata": {
  "kernelspec": {
   "display_name": "Python 3",
   "language": "python",
   "name": "python3"
  },
  "language_info": {
   "codemirror_mode": {
    "name": "ipython",
    "version": 3
   },
   "file_extension": ".py",
   "mimetype": "text/x-python",
   "name": "python",
   "nbconvert_exporter": "python",
   "pygments_lexer": "ipython3",
   "version": "3.5.2"
  }
 },
 "nbformat": 4,
 "nbformat_minor": 1
}
